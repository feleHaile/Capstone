{
 "cells": [
  {
   "cell_type": "markdown",
   "metadata": {},
   "source": [
    "## Data\n",
    "\n",
    "### The first part of this work is based on the monthly data relative to a selected bike station of the existing Citi Bike network. A list of the existing station in JSON format is available:\n",
    "#### https://feeds.citibikenyc.com/stations/stations.json\n",
    "\n",
    "### This JSON file is used to visualize the stations maps and find the information relative to chosen station, such as ID and geographical coordinates. \n",
    "\n",
    "### The monthly data can be extracted from the spreadsheets available on this website:\n",
    "#### https://www.citibikenyc.com/system-data\n",
    "\n",
    "### This same website has an interactive map with real time data, which gives an idea of the location and status of bike stations and docks. One spreadsheet of a certain month and year is chosen. It contains information about the trips to and from all stations, such as start time, duration, start and end station coordinates and so on. Not all the data in this spreadsheet are used. For example, the information relative to the end stations, such as name and coordinates, are kept for grouping and visualization purposes. They are also used as inputs to Foursquare. Other information such as trip duration and type of customer are kept for a possible analysis of any correlations. \n",
    "\n",
    "### The second part of this projects relies on the Foursquare API to find the venues around selected destinations. The obtained data are used in a clustering algorithm to highlights the common characteristics of the final destinations.\n"
   ]
  }
 ],
 "metadata": {
  "kernelspec": {
   "display_name": "Python 3",
   "language": "python",
   "name": "python3"
  },
  "language_info": {
   "codemirror_mode": {
    "name": "ipython",
    "version": 3
   },
   "file_extension": ".py",
   "mimetype": "text/x-python",
   "name": "python",
   "nbconvert_exporter": "python",
   "pygments_lexer": "ipython3",
   "version": "3.6.6"
  }
 },
 "nbformat": 4,
 "nbformat_minor": 2
}
